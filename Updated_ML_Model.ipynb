{
 "cells": [
  {
   "cell_type": "code",
   "execution_count": 1,
   "id": "d9ec4a3d",
   "metadata": {},
   "outputs": [],
   "source": [
    "# Import dependencies\n",
    "import pandas as pd\n",
    "from sklearn.ensemble import RandomForestClassifier\n",
    "from sklearn.preprocessing import StandardScaler, LabelEncoder\n",
    "from sklearn.model_selection import train_test_split\n",
    "from sklearn.metrics import confusion_matrix, accuracy_score, classification_report\n",
    "from imblearn.over_sampling import SMOTE\n",
    "from collections import Counter\n",
    "import psycopg2\n",
    "from psycopg2 import Error\n",
    "from config import DB_PASS"
   ]
  },
  {
   "cell_type": "markdown",
   "id": "1b156423",
   "metadata": {},
   "source": [
    "## Connect to and Load from Database"
   ]
  },
  {
   "cell_type": "code",
   "execution_count": 2,
   "id": "c928ee82",
   "metadata": {},
   "outputs": [],
   "source": [
    "# Connection parameters\n",
    "param_dic = {\n",
    "    \"host\"      : \"ec2-34-239-241-121.compute-1.amazonaws.com\",\n",
    "    \"database\"  : \"dfm419pf436p66\",\n",
    "    \"user\"      : \"eulpledavzofae\",\n",
    "    \"password\"  : DB_PASS\n",
    "}\n",
    "def connect(params_dic):\n",
    "    \"\"\" Connect to the PostgreSQL database server \"\"\"\n",
    "    conn = None\n",
    "    try:\n",
    "        # connect to the PostgreSQL server\n",
    "        print('Connecting to the PostgreSQL database...')\n",
    "        conn = psycopg2.connect(**params_dic)\n",
    "    except (Exception, psycopg2.DatabaseError) as error:\n",
    "        print(error)\n",
    "        sys.exit(1) \n",
    "    print(\"Connection successful\")\n",
    "    return conn"
   ]
  },
  {
   "cell_type": "code",
   "execution_count": 3,
   "id": "d48f51a9",
   "metadata": {},
   "outputs": [],
   "source": [
    "def postgresql_to_dataframe(conn, select_query, column_names):\n",
    "    \"\"\"\n",
    "    Tranform a SELECT query into a pandas dataframe\n",
    "    \"\"\"\n",
    "    cursor = conn.cursor()\n",
    "    try:\n",
    "        cursor.execute(select_query)\n",
    "    except (Exception, psycopg2.DatabaseError) as error:\n",
    "        print(\"Error: %s\" % error)\n",
    "        cursor.close()\n",
    "        return 1\n",
    "    \n",
    "    #list of tupples\n",
    "    tupples = cursor.fetchall()\n",
    "    cursor.close()\n",
    "    \n",
    "    # turn it into a pandas dataframe\n",
    "    heart_dp = pd.DataFrame(tupples, columns=column_names)\n",
    "    return heart_dp"
   ]
  },
  {
   "cell_type": "code",
   "execution_count": 4,
   "id": "c8d17015",
   "metadata": {},
   "outputs": [
    {
     "name": "stdout",
     "output_type": "stream",
     "text": [
      "Connecting to the PostgreSQL database...\n",
      "Connection successful\n"
     ]
    },
    {
     "data": {
      "text/html": [
       "<div>\n",
       "<style scoped>\n",
       "    .dataframe tbody tr th:only-of-type {\n",
       "        vertical-align: middle;\n",
       "    }\n",
       "\n",
       "    .dataframe tbody tr th {\n",
       "        vertical-align: top;\n",
       "    }\n",
       "\n",
       "    .dataframe thead th {\n",
       "        text-align: right;\n",
       "    }\n",
       "</style>\n",
       "<table border=\"1\" class=\"dataframe\">\n",
       "  <thead>\n",
       "    <tr style=\"text-align: right;\">\n",
       "      <th></th>\n",
       "      <th>Pt_ID</th>\n",
       "      <th>Age</th>\n",
       "      <th>Sex</th>\n",
       "      <th>ChestPainType</th>\n",
       "      <th>RestingBP</th>\n",
       "      <th>Cholesterol</th>\n",
       "      <th>FastingBS</th>\n",
       "      <th>RestingEKG</th>\n",
       "      <th>MaxHR</th>\n",
       "      <th>ExerciseAngina</th>\n",
       "      <th>OldPeak</th>\n",
       "      <th>ST_Slope</th>\n",
       "      <th>HeartDisease</th>\n",
       "    </tr>\n",
       "  </thead>\n",
       "  <tbody>\n",
       "    <tr>\n",
       "      <th>0</th>\n",
       "      <td>25047</td>\n",
       "      <td>74</td>\n",
       "      <td>M</td>\n",
       "      <td>NAP</td>\n",
       "      <td>138</td>\n",
       "      <td>0</td>\n",
       "      <td>0</td>\n",
       "      <td>Normal</td>\n",
       "      <td>116</td>\n",
       "      <td>N</td>\n",
       "      <td>0.2</td>\n",
       "      <td>Up</td>\n",
       "      <td>Absence</td>\n",
       "    </tr>\n",
       "    <tr>\n",
       "      <th>1</th>\n",
       "      <td>25177</td>\n",
       "      <td>60</td>\n",
       "      <td>M</td>\n",
       "      <td>ASY</td>\n",
       "      <td>130</td>\n",
       "      <td>186</td>\n",
       "      <td>1</td>\n",
       "      <td>ST</td>\n",
       "      <td>140</td>\n",
       "      <td>Y</td>\n",
       "      <td>0.5</td>\n",
       "      <td>Flat</td>\n",
       "      <td>Presence</td>\n",
       "    </tr>\n",
       "    <tr>\n",
       "      <th>2</th>\n",
       "      <td>25498</td>\n",
       "      <td>40</td>\n",
       "      <td>M</td>\n",
       "      <td>ASY</td>\n",
       "      <td>125</td>\n",
       "      <td>0</td>\n",
       "      <td>1</td>\n",
       "      <td>Normal</td>\n",
       "      <td>165</td>\n",
       "      <td>N</td>\n",
       "      <td>0</td>\n",
       "      <td>Flat</td>\n",
       "      <td>Presence</td>\n",
       "    </tr>\n",
       "    <tr>\n",
       "      <th>3</th>\n",
       "      <td>25189</td>\n",
       "      <td>69</td>\n",
       "      <td>M</td>\n",
       "      <td>ASY</td>\n",
       "      <td>140</td>\n",
       "      <td>208</td>\n",
       "      <td>0</td>\n",
       "      <td>ST</td>\n",
       "      <td>140</td>\n",
       "      <td>Y</td>\n",
       "      <td>2</td>\n",
       "      <td>Flat</td>\n",
       "      <td>Presence</td>\n",
       "    </tr>\n",
       "    <tr>\n",
       "      <th>4</th>\n",
       "      <td>25434</td>\n",
       "      <td>62</td>\n",
       "      <td>M</td>\n",
       "      <td>ASY</td>\n",
       "      <td>158</td>\n",
       "      <td>210</td>\n",
       "      <td>1</td>\n",
       "      <td>Normal</td>\n",
       "      <td>112</td>\n",
       "      <td>Y</td>\n",
       "      <td>3</td>\n",
       "      <td>Down</td>\n",
       "      <td>Presence</td>\n",
       "    </tr>\n",
       "  </tbody>\n",
       "</table>\n",
       "</div>"
      ],
      "text/plain": [
       "   Pt_ID  Age Sex ChestPainType  RestingBP  Cholesterol  FastingBS RestingEKG  \\\n",
       "0  25047   74   M           NAP        138            0          0     Normal   \n",
       "1  25177   60   M           ASY        130          186          1         ST   \n",
       "2  25498   40   M           ASY        125            0          1     Normal   \n",
       "3  25189   69   M           ASY        140          208          0         ST   \n",
       "4  25434   62   M           ASY        158          210          1     Normal   \n",
       "\n",
       "   MaxHR ExerciseAngina OldPeak ST_Slope HeartDisease  \n",
       "0    116              N     0.2       Up      Absence  \n",
       "1    140              Y     0.5     Flat     Presence  \n",
       "2    165              N       0     Flat     Presence  \n",
       "3    140              Y       2     Flat     Presence  \n",
       "4    112              Y       3     Down     Presence  "
      ]
     },
     "execution_count": 4,
     "metadata": {},
     "output_type": "execute_result"
    }
   ],
   "source": [
    "# Connect to the database\n",
    "conn = connect(param_dic)\n",
    "column_names = [\"Pt_ID\", \"Age\", \"Sex\", \"ChestPainType\", \"RestingBP\", \"Cholesterol\", \"FastingBS\",\"RestingEKG\",\"MaxHR\",\"ExerciseAngina\",\"OldPeak\",\"ST_Slope\", \"HeartDisease\"]\n",
    "# Execute the \"SELECT *\" query\n",
    "heart_disease_df = postgresql_to_dataframe(conn, \"select * from heart_dp_train\", column_names)\n",
    "heart_disease_df.head()"
   ]
  },
  {
   "cell_type": "markdown",
   "id": "e0d89857",
   "metadata": {},
   "source": [
    "## Export DataFrame to csv file for Tableau"
   ]
  },
  {
   "cell_type": "code",
   "execution_count": null,
   "id": "09cfe46b",
   "metadata": {},
   "outputs": [],
   "source": []
  },
  {
   "cell_type": "markdown",
   "id": "05cb9c92",
   "metadata": {},
   "source": [
    "## Pre-Processing"
   ]
  },
  {
   "cell_type": "code",
   "execution_count": 5,
   "id": "faedde2e",
   "metadata": {
    "scrolled": true
   },
   "outputs": [
    {
     "data": {
      "text/plain": [
       "Presence    508\n",
       "Absence     410\n",
       "Name: HeartDisease, dtype: int64"
      ]
     },
     "execution_count": 5,
     "metadata": {},
     "output_type": "execute_result"
    }
   ],
   "source": [
    "# Confirm entry count\n",
    "heart_disease_df['HeartDisease'].value_counts()"
   ]
  },
  {
   "cell_type": "code",
   "execution_count": 6,
   "id": "7ec6c260",
   "metadata": {},
   "outputs": [
    {
     "data": {
      "text/html": [
       "<div>\n",
       "<style scoped>\n",
       "    .dataframe tbody tr th:only-of-type {\n",
       "        vertical-align: middle;\n",
       "    }\n",
       "\n",
       "    .dataframe tbody tr th {\n",
       "        vertical-align: top;\n",
       "    }\n",
       "\n",
       "    .dataframe thead th {\n",
       "        text-align: right;\n",
       "    }\n",
       "</style>\n",
       "<table border=\"1\" class=\"dataframe\">\n",
       "  <thead>\n",
       "    <tr style=\"text-align: right;\">\n",
       "      <th></th>\n",
       "      <th>Pt_ID</th>\n",
       "      <th>Age</th>\n",
       "      <th>Sex</th>\n",
       "      <th>ChestPainType</th>\n",
       "      <th>RestingBP</th>\n",
       "      <th>Cholesterol</th>\n",
       "      <th>FastingBS</th>\n",
       "      <th>RestingEKG</th>\n",
       "      <th>MaxHR</th>\n",
       "      <th>ExerciseAngina</th>\n",
       "      <th>OldPeak</th>\n",
       "      <th>ST_Slope</th>\n",
       "      <th>HeartDisease</th>\n",
       "    </tr>\n",
       "  </thead>\n",
       "  <tbody>\n",
       "    <tr>\n",
       "      <th>0</th>\n",
       "      <td>25047</td>\n",
       "      <td>74</td>\n",
       "      <td>1</td>\n",
       "      <td>2</td>\n",
       "      <td>138</td>\n",
       "      <td>0</td>\n",
       "      <td>0</td>\n",
       "      <td>1</td>\n",
       "      <td>116</td>\n",
       "      <td>0</td>\n",
       "      <td>12</td>\n",
       "      <td>2</td>\n",
       "      <td>0</td>\n",
       "    </tr>\n",
       "    <tr>\n",
       "      <th>1</th>\n",
       "      <td>25177</td>\n",
       "      <td>60</td>\n",
       "      <td>1</td>\n",
       "      <td>0</td>\n",
       "      <td>130</td>\n",
       "      <td>186</td>\n",
       "      <td>1</td>\n",
       "      <td>2</td>\n",
       "      <td>140</td>\n",
       "      <td>1</td>\n",
       "      <td>15</td>\n",
       "      <td>1</td>\n",
       "      <td>1</td>\n",
       "    </tr>\n",
       "    <tr>\n",
       "      <th>2</th>\n",
       "      <td>25498</td>\n",
       "      <td>40</td>\n",
       "      <td>1</td>\n",
       "      <td>0</td>\n",
       "      <td>125</td>\n",
       "      <td>0</td>\n",
       "      <td>1</td>\n",
       "      <td>1</td>\n",
       "      <td>165</td>\n",
       "      <td>0</td>\n",
       "      <td>10</td>\n",
       "      <td>1</td>\n",
       "      <td>1</td>\n",
       "    </tr>\n",
       "    <tr>\n",
       "      <th>3</th>\n",
       "      <td>25189</td>\n",
       "      <td>69</td>\n",
       "      <td>1</td>\n",
       "      <td>0</td>\n",
       "      <td>140</td>\n",
       "      <td>208</td>\n",
       "      <td>0</td>\n",
       "      <td>2</td>\n",
       "      <td>140</td>\n",
       "      <td>1</td>\n",
       "      <td>30</td>\n",
       "      <td>1</td>\n",
       "      <td>1</td>\n",
       "    </tr>\n",
       "    <tr>\n",
       "      <th>4</th>\n",
       "      <td>25434</td>\n",
       "      <td>62</td>\n",
       "      <td>1</td>\n",
       "      <td>0</td>\n",
       "      <td>158</td>\n",
       "      <td>210</td>\n",
       "      <td>1</td>\n",
       "      <td>1</td>\n",
       "      <td>112</td>\n",
       "      <td>1</td>\n",
       "      <td>39</td>\n",
       "      <td>0</td>\n",
       "      <td>1</td>\n",
       "    </tr>\n",
       "  </tbody>\n",
       "</table>\n",
       "</div>"
      ],
      "text/plain": [
       "   Pt_ID  Age  Sex  ChestPainType  RestingBP  Cholesterol  FastingBS  \\\n",
       "0  25047   74    1              2        138            0          0   \n",
       "1  25177   60    1              0        130          186          1   \n",
       "2  25498   40    1              0        125            0          1   \n",
       "3  25189   69    1              0        140          208          0   \n",
       "4  25434   62    1              0        158          210          1   \n",
       "\n",
       "   RestingEKG  MaxHR  ExerciseAngina  OldPeak  ST_Slope  HeartDisease  \n",
       "0           1    116               0       12         2             0  \n",
       "1           2    140               1       15         1             1  \n",
       "2           1    165               0       10         1             1  \n",
       "3           2    140               1       30         1             1  \n",
       "4           1    112               1       39         0             1  "
      ]
     },
     "execution_count": 6,
     "metadata": {},
     "output_type": "execute_result"
    }
   ],
   "source": [
    "# Encode object variables with Scikit Learn\n",
    "object_columns = heart_disease_df.dtypes[heart_disease_df.dtypes == \"object\"].index.tolist()\n",
    "le = LabelEncoder()\n",
    "encoded_df = heart_disease_df.copy()\n",
    "\n",
    "for column in object_columns:\n",
    "    encoded_df[column] = le.fit_transform(encoded_df[column])\n",
    "    \n",
    "encoded_df.head()"
   ]
  },
  {
   "cell_type": "code",
   "execution_count": 7,
   "id": "1c938243",
   "metadata": {},
   "outputs": [],
   "source": [
    "# Define the target and features\n",
    "y = encoded_df['HeartDisease'].ravel()\n",
    "\n",
    "X = encoded_df.drop('HeartDisease', axis = 1)"
   ]
  },
  {
   "cell_type": "code",
   "execution_count": 8,
   "id": "3d80ded1",
   "metadata": {},
   "outputs": [],
   "source": [
    "# Split in to test and train sets\n",
    "X_train, X_test, y_train, y_test = train_test_split(X, y, random_state = 22)"
   ]
  },
  {
   "cell_type": "code",
   "execution_count": 9,
   "id": "81ab5e76",
   "metadata": {},
   "outputs": [],
   "source": [
    "# Create StandardScaler instance\n",
    "scaler = StandardScaler()\n",
    "\n",
    "# Fit the scaler with the training data\n",
    "X_scaler = scaler.fit(X_train)\n",
    "\n",
    "# Scale the data\n",
    "X_train_scaled = X_scaler.transform(X_train)\n",
    "X_test_scaled = X_scaler.transform(X_test)"
   ]
  },
  {
   "cell_type": "markdown",
   "id": "deb38904",
   "metadata": {},
   "source": [
    "## Create and Fit Random Forest Model"
   ]
  },
  {
   "cell_type": "code",
   "execution_count": 10,
   "id": "a9818bd4",
   "metadata": {},
   "outputs": [],
   "source": [
    "# Create random forest classifier\n",
    "model = RandomForestClassifier(n_estimators = 128, random_state = 20)"
   ]
  },
  {
   "cell_type": "code",
   "execution_count": 11,
   "id": "b311042a",
   "metadata": {},
   "outputs": [],
   "source": [
    "# Fit the model\n",
    "model = model.fit(X_train_scaled, y_train)"
   ]
  },
  {
   "cell_type": "markdown",
   "id": "55d09344",
   "metadata": {},
   "source": [
    "## Make Predictions"
   ]
  },
  {
   "cell_type": "code",
   "execution_count": 12,
   "id": "53c45456",
   "metadata": {},
   "outputs": [],
   "source": [
    "# Make predictions using the testing data\n",
    "predictions = model.predict(X_test_scaled)"
   ]
  },
  {
   "cell_type": "markdown",
   "id": "ec266986",
   "metadata": {},
   "source": [
    "## Assess Accuracy"
   ]
  },
  {
   "cell_type": "code",
   "execution_count": 13,
   "id": "dd031b8e",
   "metadata": {},
   "outputs": [
    {
     "data": {
      "text/plain": [
       "array([[ 89,  11],\n",
       "       [ 21, 109]], dtype=int64)"
      ]
     },
     "execution_count": 13,
     "metadata": {},
     "output_type": "execute_result"
    }
   ],
   "source": [
    "# Calculate confusion matrix\n",
    "matrix = confusion_matrix(y_test, predictions)\n",
    "matrix"
   ]
  },
  {
   "cell_type": "code",
   "execution_count": 14,
   "id": "5c17df2e",
   "metadata": {},
   "outputs": [
    {
     "name": "stdout",
     "output_type": "stream",
     "text": [
      "Accuracy score: 0.8608695652173913\n"
     ]
    }
   ],
   "source": [
    "# Calculate accuracy score\n",
    "acc_score = accuracy_score(y_test, predictions)\n",
    "print(f\"Accuracy score: {acc_score}\")"
   ]
  },
  {
   "cell_type": "code",
   "execution_count": 16,
   "id": "44035abb",
   "metadata": {},
   "outputs": [
    {
     "name": "stdout",
     "output_type": "stream",
     "text": [
      "              precision    recall  f1-score   support\n",
      "\n",
      "           0       0.81      0.89      0.85       100\n",
      "           1       0.91      0.84      0.87       130\n",
      "\n",
      "    accuracy                           0.86       230\n",
      "   macro avg       0.86      0.86      0.86       230\n",
      "weighted avg       0.87      0.86      0.86       230\n",
      "\n"
     ]
    }
   ],
   "source": [
    "class_report = classification_report(y_test, predictions)\n",
    "print(class_report)"
   ]
  },
  {
   "cell_type": "markdown",
   "id": "e6913b01",
   "metadata": {},
   "source": [
    "## Feature Importances"
   ]
  },
  {
   "cell_type": "code",
   "execution_count": 17,
   "id": "7066ea8e",
   "metadata": {},
   "outputs": [
    {
     "data": {
      "text/plain": [
       "array([0.07268628, 0.06633403, 0.02980734, 0.12155114, 0.05884815,\n",
       "       0.09755969, 0.0304638 , 0.02778631, 0.11061294, 0.11089429,\n",
       "       0.09509723, 0.17835879])"
      ]
     },
     "execution_count": 17,
     "metadata": {},
     "output_type": "execute_result"
    }
   ],
   "source": [
    "# Calculate feature importance\n",
    "importances = model.feature_importances_\n",
    "importances"
   ]
  },
  {
   "cell_type": "code",
   "execution_count": 18,
   "id": "73ee8a36",
   "metadata": {},
   "outputs": [
    {
     "data": {
      "text/plain": [
       "[(0.17835879467563698, 'ST_Slope'),\n",
       " (0.12155113783065993, 'ChestPainType'),\n",
       " (0.11089428808631394, 'ExerciseAngina'),\n",
       " (0.11061294039219947, 'MaxHR'),\n",
       " (0.09755969327652136, 'Cholesterol'),\n",
       " (0.09509722739553886, 'OldPeak'),\n",
       " (0.07268628032510893, 'Pt_ID'),\n",
       " (0.06633403116482448, 'Age'),\n",
       " (0.05884815089442937, 'RestingBP'),\n",
       " (0.030463804247622704, 'FastingBS'),\n",
       " (0.029807344708313088, 'Sex'),\n",
       " (0.027786307002830957, 'RestingEKG')]"
      ]
     },
     "execution_count": 18,
     "metadata": {},
     "output_type": "execute_result"
    }
   ],
   "source": [
    "# Sort the features by their importance.\n",
    "sorted(zip(model.feature_importances_, X.columns), reverse=True)"
   ]
  },
  {
   "cell_type": "markdown",
   "id": "f59beef5",
   "metadata": {},
   "source": [
    "## Create DataFrame Predictions vs. Actual"
   ]
  },
  {
   "cell_type": "code",
   "execution_count": 29,
   "id": "f612b487",
   "metadata": {},
   "outputs": [],
   "source": [
    "compare_dict = {\n",
    "    'Prediction': predictions,\n",
    "    'Actual': y_test\n",
    "}"
   ]
  },
  {
   "cell_type": "code",
   "execution_count": 32,
   "id": "58ef4ec0",
   "metadata": {},
   "outputs": [
    {
     "data": {
      "text/html": [
       "<div>\n",
       "<style scoped>\n",
       "    .dataframe tbody tr th:only-of-type {\n",
       "        vertical-align: middle;\n",
       "    }\n",
       "\n",
       "    .dataframe tbody tr th {\n",
       "        vertical-align: top;\n",
       "    }\n",
       "\n",
       "    .dataframe thead th {\n",
       "        text-align: right;\n",
       "    }\n",
       "</style>\n",
       "<table border=\"1\" class=\"dataframe\">\n",
       "  <thead>\n",
       "    <tr style=\"text-align: right;\">\n",
       "      <th></th>\n",
       "      <th>Prediction</th>\n",
       "      <th>Actual</th>\n",
       "    </tr>\n",
       "  </thead>\n",
       "  <tbody>\n",
       "    <tr>\n",
       "      <th>0</th>\n",
       "      <td>1</td>\n",
       "      <td>1</td>\n",
       "    </tr>\n",
       "    <tr>\n",
       "      <th>1</th>\n",
       "      <td>0</td>\n",
       "      <td>1</td>\n",
       "    </tr>\n",
       "    <tr>\n",
       "      <th>2</th>\n",
       "      <td>0</td>\n",
       "      <td>1</td>\n",
       "    </tr>\n",
       "    <tr>\n",
       "      <th>3</th>\n",
       "      <td>0</td>\n",
       "      <td>1</td>\n",
       "    </tr>\n",
       "    <tr>\n",
       "      <th>4</th>\n",
       "      <td>1</td>\n",
       "      <td>1</td>\n",
       "    </tr>\n",
       "    <tr>\n",
       "      <th>...</th>\n",
       "      <td>...</td>\n",
       "      <td>...</td>\n",
       "    </tr>\n",
       "    <tr>\n",
       "      <th>225</th>\n",
       "      <td>1</td>\n",
       "      <td>1</td>\n",
       "    </tr>\n",
       "    <tr>\n",
       "      <th>226</th>\n",
       "      <td>0</td>\n",
       "      <td>0</td>\n",
       "    </tr>\n",
       "    <tr>\n",
       "      <th>227</th>\n",
       "      <td>1</td>\n",
       "      <td>0</td>\n",
       "    </tr>\n",
       "    <tr>\n",
       "      <th>228</th>\n",
       "      <td>1</td>\n",
       "      <td>1</td>\n",
       "    </tr>\n",
       "    <tr>\n",
       "      <th>229</th>\n",
       "      <td>0</td>\n",
       "      <td>0</td>\n",
       "    </tr>\n",
       "  </tbody>\n",
       "</table>\n",
       "<p>230 rows × 2 columns</p>\n",
       "</div>"
      ],
      "text/plain": [
       "     Prediction  Actual\n",
       "0             1       1\n",
       "1             0       1\n",
       "2             0       1\n",
       "3             0       1\n",
       "4             1       1\n",
       "..          ...     ...\n",
       "225           1       1\n",
       "226           0       0\n",
       "227           1       0\n",
       "228           1       1\n",
       "229           0       0\n",
       "\n",
       "[230 rows x 2 columns]"
      ]
     },
     "execution_count": 32,
     "metadata": {},
     "output_type": "execute_result"
    }
   ],
   "source": [
    "compare_df = pd.DataFrame.from_dict(compare_dict)\n",
    "compare_df"
   ]
  },
  {
   "cell_type": "code",
   "execution_count": 33,
   "id": "67421c38",
   "metadata": {},
   "outputs": [],
   "source": [
    "path = \"../Predictions_Comparison.csv\"\n",
    "compare_df.to_csv(path)"
   ]
  },
  {
   "cell_type": "code",
   "execution_count": null,
   "id": "a441b5d5",
   "metadata": {},
   "outputs": [],
   "source": []
  }
 ],
 "metadata": {
  "kernelspec": {
   "display_name": "mlenv",
   "language": "python",
   "name": "mlenv"
  },
  "language_info": {
   "codemirror_mode": {
    "name": "ipython",
    "version": 3
   },
   "file_extension": ".py",
   "mimetype": "text/x-python",
   "name": "python",
   "nbconvert_exporter": "python",
   "pygments_lexer": "ipython3",
   "version": "3.7.13"
  }
 },
 "nbformat": 4,
 "nbformat_minor": 5
}
